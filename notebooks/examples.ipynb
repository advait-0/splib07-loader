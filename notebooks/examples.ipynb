{
 "cells": [
  {
   "cell_type": "markdown",
   "source": [
    "# Examples"
   ],
   "metadata": {
    "collapsed": false
   }
  },
  {
   "cell_type": "code",
   "execution_count": 1,
   "outputs": [],
   "source": [
    "%load_ext autoreload\n",
    "%autoreload complete\n",
    "\n",
    "import pathlib\n",
    "\n",
    "import numpy as np\n",
    "\n",
    "import splib07"
   ],
   "metadata": {
    "collapsed": false,
    "ExecuteTime": {
     "end_time": "2023-07-21T01:40:48.752196837Z",
     "start_time": "2023-07-21T01:40:48.495210011Z"
    }
   }
  },
  {
   "cell_type": "markdown",
   "source": [
    "Open library archive:"
   ],
   "metadata": {
    "collapsed": false
   }
  },
  {
   "cell_type": "code",
   "execution_count": 2,
   "metadata": {
    "collapsed": true,
    "ExecuteTime": {
     "end_time": "2023-07-21T01:40:50.605248212Z",
     "start_time": "2023-07-21T01:40:48.688351895Z"
    }
   },
   "outputs": [],
   "source": [
    "data_dir = pathlib.Path.cwd().joinpath(\"../data\")\n",
    "usgs_archive_file = data_dir / \"usgs_splib07.zip\"\n",
    "\n",
    "usgs_lib = splib07.Splib07(usgs_archive_file)"
   ]
  },
  {
   "cell_type": "markdown",
   "source": [
    "Browse the available spectra:"
   ],
   "metadata": {
    "collapsed": false
   }
  },
  {
   "cell_type": "code",
   "execution_count": 3,
   "outputs": [
    {
     "name": "stdout",
     "output_type": "stream",
     "text": [
      "# spectra: 2457\n"
     ]
    },
    {
     "data": {
      "text/plain": "['1-2-3-Trimethylbenzene_85K',\n '1-2-3-Trimethylbenzene_85K',\n '2-3-Benzanthracene_SA-B2403',\n '2-4-Diaminopyrimidine_468231',\n '2-4-Diaminopyrimidine_468231',\n '2-4-Diaminopyrimidine_85K',\n '2-4-Diaminopyrimidine_90K',\n '2-4Diamino6hydroxypyrim_100K',\n '2-4Diamino6hydroxypyrim_85K',\n '2-4Diamino6hydroxypyrimidin',\n '2-4Diamino6hydroxypyrimidine',\n '2-6-Diaminopurine_247847',\n '2-6-Diaminopurine_247847',\n '2-6-Diaminopurine_247847_85K',\n '2-6-Diaminopurine_247847_90K',\n '2-Aminopurine_SA-A3509',\n '2-Aminopurine_SA-A3509',\n '2-Aminopurine_SA-A3509_85K',\n '2-Aminopurine_SA-A3509_90K',\n '2-Methylnaptha_SA-442359_85K',\n '...',\n 'Zincite+Franklin_HS147.3B',\n 'Zincite+Franklin_HS147.3B',\n 'Zincite+Franklin_HS147.4B',\n 'Zircon_WS522',\n 'Zoisite_HS347.1B',\n 'Zoisite_HS347.2B',\n 'Zoisite_HS347.3B',\n 'Zoisite_HS347.3B',\n 'Zoisite_HS347.3B',\n 'Zoisite_HS347.4B',\n 'Zoisite_HS347.6',\n 'Zunyite_GDS241B_lt150um',\n 'cis-Stilbene_SA-S4808_75K',\n 'cis-Stilbene_SA-S4808_85K',\n 'o-Terphenyl_SA-T2800',\n 'o-Terphenyl_SA-T2800',\n 'o-Terphenyl_SA-T2800_75K',\n 'o-Terphenyl_SA-T2800_85K',\n 'trans-beta-Methylstyrene_85K',\n 'trans-beta-Methylstyrene_85K']"
     },
     "metadata": {},
     "output_type": "display_data"
    }
   ],
   "source": [
    "available_spectra = sorted(usgs_lib.list_spectra())\n",
    "print(f\"# spectra: {len(available_spectra)}\")\n",
    "display(available_spectra[:20] + [\"...\"] + sorted(usgs_lib.list_spectra())[-20:])"
   ],
   "metadata": {
    "collapsed": false,
    "ExecuteTime": {
     "end_time": "2023-07-21T01:40:52.064074440Z",
     "start_time": "2023-07-21T01:40:50.651887909Z"
    }
   }
  },
  {
   "cell_type": "markdown",
   "source": [
    "Search for a spectrum name:"
   ],
   "metadata": {
    "collapsed": false
   }
  },
  {
   "cell_type": "code",
   "execution_count": 4,
   "outputs": [
    {
     "data": {
      "text/plain": "['Aspen_Leaf-A_DW92-2',\n 'Aspen_Leaf-B_DW92-3',\n 'Blackbrush_ANP92-9A_leaves',\n 'Buckbrush_CA01-CECU-1_bush_1',\n 'Buckbrush_CA01-CECU-2_bush_2',\n 'Buckbrush_CA01-CECU-3_bush_3',\n 'Chamise_CA01-ADFA-1_bush_1',\n 'Chamise_CA01-ADFA-2_bush_2',\n 'Hyacinth_DWO-3-DEL-2_leaf.a',\n 'LeafySpurge_Spurge-A1-Jul98',\n 'LeafySpurge_Spurge-A1-Jun98',\n 'LeafySpurge_Spurge-A1-Oct97',\n 'LeafySpurge_Spurge-A1-Sep97',\n 'LeafySpurge_Spurge-A2-Jun98',\n 'LeafySpurge_Spurge-B1-Jul98',\n 'LeafySpurge_Spurge-B1-Oct97',\n 'LeafySpurge_Spurge-B2-Jul98',\n 'LeafySpurge_Spurge-B3-Jul98',\n 'LeafySpurge_Spurge-C1-Oct97',\n 'Manzanita_CA01-ARVI-1_bush_1',\n 'Manzanita_CA01-ARVI-2_bush_2',\n 'Manzanita_CA01-ARVI-3_bush_3',\n 'Manzanita_CA01-ARVI-4_bush_4',\n 'Manzanita_CA01-ARVI-5_bush_5',\n 'Manzanita_CA01-ARVI-6_bush_6',\n 'Manzanita_CA01-ARVI-7_leaves',\n 'Maple_Leaves_DW92-1',\n 'Oak_Oak-Leaf-1_fresh',\n 'Oak_Oak-Leaf-2_dried',\n 'Oak_QUDU_CA01-QUDU-1_bush_1',\n 'Oak_QUDU_CA01-QUDU-2_bush_2',\n 'Oak_QUDU_CA01-QUDU-3_bush_3',\n 'Sagebrush_Sage-Leaves-1_dry',\n 'Toyon_CA01-HEAR-1_bush',\n 'Walnut_Leaf_SUN_(Green)',\n 'Willow_Willow-Leaves-1_dry',\n 'Yerba_Santa_CA01-ERCA-1_bush',\n 'Yerba_Santa_CA01-ERCA-2_bush']"
     },
     "metadata": {},
     "output_type": "display_data"
    }
   ],
   "source": [
    "display(usgs_lib.search_spectra(\"bush|lea(f|ves)\"))"
   ],
   "metadata": {
    "collapsed": false,
    "ExecuteTime": {
     "end_time": "2023-07-21T01:40:52.077813947Z",
     "start_time": "2023-07-21T01:40:52.064281512Z"
    }
   }
  },
  {
   "cell_type": "markdown",
   "source": [
    "Browse the available resamplings:"
   ],
   "metadata": {
    "collapsed": false
   }
  },
  {
   "cell_type": "code",
   "execution_count": 5,
   "outputs": [
    {
     "data": {
      "text/plain": "['measured',\n 'oversampled',\n 'cvASD',\n 'cvAVIRISc1995',\n 'cvAVIRISc1996',\n 'cvAVIRISc1997',\n 'cvAVIRISc1998',\n 'cvAVIRISc1999',\n 'cvAVIRISc2000',\n 'cvAVIRISc2001',\n 'cvAVIRISc2005',\n 'cvAVIRISc2006',\n 'cvAVIRISc2009',\n 'cvAVIRISc2010',\n 'cvAVIRISc2011',\n 'cvAVIRISc2012',\n 'cvAVIRISc2013',\n 'cvAVIRISc2014',\n 'cvCRISM-global',\n 'cvCRISMjMTR3',\n 'cvHYMAP2007',\n 'cvHYMAP2014',\n 'cvHYPERION',\n 'cvM3-target',\n 'cvVIMS',\n 'rsASTER',\n 'rsLandsat8',\n 'rsSentinel2',\n 'rsWorldView3']"
     },
     "metadata": {},
     "output_type": "display_data"
    }
   ],
   "source": [
    "available_resamplings = usgs_lib.list_resamplings()\n",
    "display(available_resamplings)"
   ],
   "metadata": {
    "collapsed": false,
    "ExecuteTime": {
     "end_time": "2023-07-21T01:40:52.284553943Z",
     "start_time": "2023-07-21T01:40:52.078210439Z"
    }
   }
  },
  {
   "cell_type": "markdown",
   "source": [
    "Load a particular spectrum with a chose resampling:"
   ],
   "metadata": {
    "collapsed": false
   }
  },
  {
   "cell_type": "code",
   "execution_count": 6,
   "outputs": [
    {
     "name": "stdout",
     "output_type": "stream",
     "text": [
      "480\n",
      "3961\n",
      "2151\n"
     ]
    }
   ],
   "source": [
    "print(usgs_lib.load(\"Seawater_Coast_Chl_SW1\", resample=\"measured\")[0].size)\n",
    "print(usgs_lib.load(\"Seawater_Coast_Chl_SW1\", resample=\"oversampled\")[0].size)\n",
    "print(usgs_lib.load(\"Seawater_Coast_Chl_SW1\", resample=\"cvASD\")[0].size)"
   ],
   "metadata": {
    "collapsed": false,
    "ExecuteTime": {
     "end_time": "2023-07-21T01:40:54.506216015Z",
     "start_time": "2023-07-21T01:40:52.298878096Z"
    }
   }
  },
  {
   "cell_type": "markdown",
   "source": [
    "Load a spectrum as a [`SpectralLibrary`](https://www.spectralpython.net/class_func_ref.html#spectral.io.envi.SpectralLibrary) from the [`spectral`](https://pypi.org/project/spectral/) distribution:"
   ],
   "metadata": {
    "collapsed": false
   }
  },
  {
   "cell_type": "code",
   "execution_count": 7,
   "outputs": [
    {
     "name": "stdout",
     "output_type": "stream",
     "text": [
      "<spectral.io.envi.SpectralLibrary object at 0x7f5f51fdc400>\n",
      "[0.02851183 0.02851183 0.02851183 0.02851183 0.02851183]\n",
      "['Seawater_Coast_Chl_SW1']\n",
      "[0.2051, 0.21310002, 0.2211, 0.2291, 0.2361]\n",
      "[0.0080000004, 0.0080000004, 0.0080000004, 0.0070000002, 0.0060000001]\n",
      "micrometer\n"
     ]
    }
   ],
   "source": [
    "spec_lib = usgs_lib.load(\"Seawater_Coast_Chl_SW1\", resample=\"measured\", format=\"spectral\")\n",
    "\n",
    "print(spec_lib)\n",
    "print(spec_lib.spectra.flat[:5])\n",
    "print(spec_lib.names)\n",
    "print(spec_lib.bands.centers[:5])\n",
    "print(spec_lib.bands.bandwidths[:5])\n",
    "print(spec_lib.bands.band_unit)"
   ],
   "metadata": {
    "collapsed": false,
    "ExecuteTime": {
     "end_time": "2023-07-21T01:40:55.243505513Z",
     "start_time": "2023-07-21T01:40:54.507499726Z"
    }
   }
  },
  {
   "cell_type": "markdown",
   "source": [
    "Load spectrum resampled to particular wavelengths:"
   ],
   "metadata": {
    "collapsed": false
   }
  },
  {
   "cell_type": "code",
   "execution_count": 8,
   "outputs": [
    {
     "name": "stdout",
     "output_type": "stream",
     "text": [
      "[0.03251023 0.02163642 0.01975156 0.0193604  0.0190043  0.01862108\n",
      " 0.01811341 0.01717422 0.01577636 0.01130907]\n",
      "[0.5        0.72222222 0.94444444 1.16666667 1.38888889 1.61111111\n",
      " 1.83333333 2.05555556 2.27777778 2.5       ]\n"
     ]
    }
   ],
   "source": [
    "wavelengths = np.linspace(0.5, 2.5, 10)\n",
    "\n",
    "spec = usgs_lib.load(\"Seawater_Coast_Chl_SW1\", resample=wavelengths)\n",
    "print(spec.spectrum)\n",
    "print(spec.wavelengths)"
   ],
   "metadata": {
    "collapsed": false,
    "ExecuteTime": {
     "end_time": "2023-07-21T01:40:55.995750526Z",
     "start_time": "2023-07-21T01:40:55.244368689Z"
    }
   }
  }
 ],
 "metadata": {
  "kernelspec": {
   "display_name": "Python 3",
   "language": "python",
   "name": "python3"
  },
  "language_info": {
   "codemirror_mode": {
    "name": "ipython",
    "version": 2
   },
   "file_extension": ".py",
   "mimetype": "text/x-python",
   "name": "python",
   "nbconvert_exporter": "python",
   "pygments_lexer": "ipython2",
   "version": "2.7.6"
  }
 },
 "nbformat": 4,
 "nbformat_minor": 0
}
