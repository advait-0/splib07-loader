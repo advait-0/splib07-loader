{
 "cells": [
  {
   "cell_type": "markdown",
   "source": [
    "# Examples"
   ],
   "metadata": {
    "collapsed": false
   }
  },
  {
   "cell_type": "code",
   "execution_count": 1,
   "outputs": [],
   "source": [
    "%load_ext autoreload\n",
    "%autoreload complete\n",
    "\n",
    "import pathlib\n",
    "\n",
    "import splib07"
   ],
   "metadata": {
    "collapsed": false,
    "ExecuteTime": {
     "end_time": "2023-07-20T22:23:53.365919064Z",
     "start_time": "2023-07-20T22:23:53.136448661Z"
    }
   }
  },
  {
   "cell_type": "markdown",
   "source": [
    "Open library archive:"
   ],
   "metadata": {
    "collapsed": false
   }
  },
  {
   "cell_type": "code",
   "execution_count": 2,
   "metadata": {
    "collapsed": true,
    "ExecuteTime": {
     "end_time": "2023-07-20T22:23:55.180141087Z",
     "start_time": "2023-07-20T22:23:53.230013841Z"
    }
   },
   "outputs": [],
   "source": [
    "data_dir = pathlib.Path.cwd().joinpath(\"../data\")\n",
    "usgs_archive_file = data_dir / \"usgs_splib07.zip\"\n",
    "\n",
    "usgs_lib = splib07.Splib07(usgs_archive_file)"
   ]
  },
  {
   "cell_type": "markdown",
   "source": [
    "Browse the available spectra:"
   ],
   "metadata": {
    "collapsed": false
   }
  },
  {
   "cell_type": "code",
   "execution_count": 3,
   "outputs": [
    {
     "name": "stdout",
     "output_type": "stream",
     "text": [
      "# spectra: 2457\n"
     ]
    },
    {
     "data": {
      "text/plain": "['1-2-3-Trimethylbenzene_85K',\n '1-2-3-Trimethylbenzene_85K',\n '2-3-Benzanthracene_SA-B2403',\n '2-4-Diaminopyrimidine_468231',\n '2-4-Diaminopyrimidine_468231',\n '2-4-Diaminopyrimidine_85K',\n '2-4-Diaminopyrimidine_90K',\n '2-4Diamino6hydroxypyrim_100K',\n '2-4Diamino6hydroxypyrim_85K',\n '2-4Diamino6hydroxypyrimidin',\n '2-4Diamino6hydroxypyrimidine',\n '2-6-Diaminopurine_247847',\n '2-6-Diaminopurine_247847',\n '2-6-Diaminopurine_247847_85K',\n '2-6-Diaminopurine_247847_90K',\n '2-Aminopurine_SA-A3509',\n '2-Aminopurine_SA-A3509',\n '2-Aminopurine_SA-A3509_85K',\n '2-Aminopurine_SA-A3509_90K',\n '2-Methylnaptha_SA-442359_85K',\n '...',\n 'Zincite+Franklin_HS147.3B',\n 'Zincite+Franklin_HS147.3B',\n 'Zincite+Franklin_HS147.4B',\n 'Zircon_WS522',\n 'Zoisite_HS347.1B',\n 'Zoisite_HS347.2B',\n 'Zoisite_HS347.3B',\n 'Zoisite_HS347.3B',\n 'Zoisite_HS347.3B',\n 'Zoisite_HS347.4B',\n 'Zoisite_HS347.6',\n 'Zunyite_GDS241B_lt150um',\n 'cis-Stilbene_SA-S4808_75K',\n 'cis-Stilbene_SA-S4808_85K',\n 'o-Terphenyl_SA-T2800',\n 'o-Terphenyl_SA-T2800',\n 'o-Terphenyl_SA-T2800_75K',\n 'o-Terphenyl_SA-T2800_85K',\n 'trans-beta-Methylstyrene_85K',\n 'trans-beta-Methylstyrene_85K']"
     },
     "metadata": {},
     "output_type": "display_data"
    }
   ],
   "source": [
    "available_spectra = sorted(usgs_lib.list_spectra())\n",
    "print(f\"# spectra: {len(available_spectra)}\")\n",
    "display(available_spectra[:20] + [\"...\"] + sorted(usgs_lib.list_spectra())[-20:])"
   ],
   "metadata": {
    "collapsed": false,
    "ExecuteTime": {
     "end_time": "2023-07-20T22:23:56.675388296Z",
     "start_time": "2023-07-20T22:23:55.179949358Z"
    }
   }
  },
  {
   "cell_type": "markdown",
   "source": [
    "Browse the available resamplings:"
   ],
   "metadata": {
    "collapsed": false
   }
  },
  {
   "cell_type": "code",
   "execution_count": 4,
   "outputs": [
    {
     "data": {
      "text/plain": "['measured',\n 'oversampled',\n 'cvASD',\n 'cvAVIRISc1995',\n 'cvAVIRISc1996',\n 'cvAVIRISc1997',\n 'cvAVIRISc1998',\n 'cvAVIRISc1999',\n 'cvAVIRISc2000',\n 'cvAVIRISc2001',\n 'cvAVIRISc2005',\n 'cvAVIRISc2006',\n 'cvAVIRISc2009',\n 'cvAVIRISc2010',\n 'cvAVIRISc2011',\n 'cvAVIRISc2012',\n 'cvAVIRISc2013',\n 'cvAVIRISc2014',\n 'cvCRISM-global',\n 'cvCRISMjMTR3',\n 'cvHYMAP2007',\n 'cvHYMAP2014',\n 'cvHYPERION',\n 'cvM3-target',\n 'cvVIMS',\n 'rsASTER',\n 'rsLandsat8',\n 'rsSentinel2',\n 'rsWorldView3']"
     },
     "metadata": {},
     "output_type": "display_data"
    }
   ],
   "source": [
    "available_resamplings = usgs_lib.list_resamplings()\n",
    "display(available_resamplings)"
   ],
   "metadata": {
    "collapsed": false,
    "ExecuteTime": {
     "end_time": "2023-07-20T22:23:56.855790790Z",
     "start_time": "2023-07-20T22:23:56.662548303Z"
    }
   }
  },
  {
   "cell_type": "markdown",
   "source": [
    "Load a particular spectra with a chose resampling:"
   ],
   "metadata": {
    "collapsed": false
   }
  },
  {
   "cell_type": "code",
   "execution_count": 5,
   "outputs": [
    {
     "name": "stdout",
     "output_type": "stream",
     "text": [
      "480\n",
      "3961\n",
      "2151\n"
     ]
    }
   ],
   "source": [
    "print(usgs_lib.load(\"Seawater_Coast_Chl_SW1\", resampling=\"measured\").size)\n",
    "print(usgs_lib.load(\"Seawater_Coast_Chl_SW1\", resampling=\"oversampled\").size)\n",
    "print(usgs_lib.load(\"Seawater_Coast_Chl_SW1\", resampling=\"cvASD\").size)"
   ],
   "metadata": {
    "collapsed": false,
    "ExecuteTime": {
     "end_time": "2023-07-20T22:23:58.108867556Z",
     "start_time": "2023-07-20T22:23:56.856933179Z"
    }
   }
  },
  {
   "cell_type": "markdown",
   "source": [
    "Load a spectrum as a `SpectralLibrary` from the [`spectral`](https://pypi.org/project/spectral/) distribution:"
   ],
   "metadata": {
    "collapsed": false
   }
  },
  {
   "cell_type": "code",
   "execution_count": 6,
   "outputs": [
    {
     "name": "stdout",
     "output_type": "stream",
     "text": [
      "<spectral.io.envi.SpectralLibrary object at 0x7f032f7e4a00>\n",
      "[0.02851183 0.02851183 0.02851183 0.02851183 0.02851183]\n",
      "['Seawater_Coast_Chl_SW1']\n",
      "[0.2051, 0.21310002, 0.2211, 0.2291, 0.2361]\n",
      "[0.0080000004, 0.0080000004, 0.0080000004, 0.0070000002, 0.0060000001]\n",
      "micrometer\n"
     ]
    }
   ],
   "source": [
    "spec_lib = usgs_lib.load(\"Seawater_Coast_Chl_SW1\", resampling=\"measured\", format=\"spectral\")\n",
    "\n",
    "print(spec_lib)\n",
    "print(spec_lib.spectra.flat[:5])\n",
    "print(spec_lib.names)\n",
    "print(spec_lib.bands.centers[:5])\n",
    "print(spec_lib.bands.bandwidths[:5])\n",
    "print(spec_lib.bands.band_unit)"
   ],
   "metadata": {
    "collapsed": false,
    "ExecuteTime": {
     "end_time": "2023-07-20T22:23:58.887438397Z",
     "start_time": "2023-07-20T22:23:58.108176798Z"
    }
   }
  }
 ],
 "metadata": {
  "kernelspec": {
   "display_name": "Python 3",
   "language": "python",
   "name": "python3"
  },
  "language_info": {
   "codemirror_mode": {
    "name": "ipython",
    "version": 2
   },
   "file_extension": ".py",
   "mimetype": "text/x-python",
   "name": "python",
   "nbconvert_exporter": "python",
   "pygments_lexer": "ipython2",
   "version": "2.7.6"
  }
 },
 "nbformat": 4,
 "nbformat_minor": 0
}
